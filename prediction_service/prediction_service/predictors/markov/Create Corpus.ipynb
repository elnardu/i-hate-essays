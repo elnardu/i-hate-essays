{
 "cells": [
  {
   "cell_type": "code",
   "execution_count": 1,
   "metadata": {},
   "outputs": [],
   "source": [
    "import pandas as pd"
   ]
  },
  {
   "cell_type": "code",
   "execution_count": 6,
   "metadata": {},
   "outputs": [],
   "source": [
    "df = pd.read_csv('./asap-aes/training_set_rel3.tsv', sep='\\t', encoding = \"ISO-8859-1\")"
   ]
  },
  {
   "cell_type": "code",
   "execution_count": 9,
   "metadata": {},
   "outputs": [
    {
     "data": {
      "text/plain": [
       "array([\"Dear local newspaper, I think effects computers have on people are great learning skills/affects because they give us time to chat with friends/new people, helps us learn about the globe(astronomy) and keeps us out of troble! Thing about! Dont you think so? How would you feel if your teenager is always on the phone with friends! Do you ever time to chat with your friends or buisness partner about things. Well now - there's a new way to chat the computer, theirs plenty of sites on the internet to do so: @ORGANIZATION1, @ORGANIZATION2, @CAPS1, facebook, myspace ect. Just think now while your setting up meeting with your boss on the computer, your teenager is having fun on the phone not rushing to get off cause you want to use it. How did you learn about other countrys/states outside of yours? Well I have by computer/internet, it's a new way to learn about what going on in our time! You might think your child spends a lot of time on the computer, but ask them so question about the economy, sea floor spreading or even about the @DATE1's you'll be surprise at how much he/she knows. Believe it or not the computer is much interesting then in class all day reading out of books. If your child is home on your computer or at a local library, it's better than being out with friends being fresh, or being perpressured to doing something they know isnt right. You might not know where your child is, @CAPS2 forbidde in a hospital bed because of a drive-by. Rather than your child on the computer learning, chatting or just playing games, safe and sound in your home or community place. Now I hope you have reached a point to understand and agree with me, because computers can have great effects on you or child because it gives us time to chat with friends/new people, helps us learn about the globe and believe or not keeps us out of troble. Thank you for listening.\",\n",
       "       \"Dear @CAPS1 @CAPS2, I believe that using computers will benefit us in many ways like talking and becoming friends will others through websites like facebook and mysace. Using computers can help us find coordibates, locations, and able ourselfs to millions of information. Also computers will benefit us by helping with jobs as in planning a house plan and typing a @NUM1 page report for one of our jobs in less than writing it. Now lets go into the wonder world of technology. Using a computer will help us in life by talking or making friends on line. Many people have myspace, facebooks, aim, these all benefit us by having conversations with one another. Many people believe computers are bad but how can you make friends if you can never talk to them? I am very fortunate for having a computer that can help with not only school work but my social life and how I make friends. Computers help us with finding our locations, coordibates and millions of information online. If we didn't go on the internet a lot we wouldn't know how to go onto websites that @MONTH1 help us with locations and coordinates like @LOCATION1. Would you rather use a computer or be in @LOCATION3. When your supposed to be vacationing in @LOCATION2. Million of information is found on the internet. You can as almost every question and a computer will have it. Would you rather easily draw up a house plan on the computers or take @NUM1 hours doing one by hand with ugly erazer marks all over it, you are garrenteed that to find a job with a drawing like that. Also when appling for a job many workers must write very long papers like a @NUM3 word essay on why this job fits you the most, and many people I know don't like writing @NUM3 words non-stopp for hours when it could take them I hav an a computer. That is why computers we needed a lot now adays. I hope this essay has impacted your descion on computers because they are great machines to work with. The other day I showed my mom how to use a computer and she said it was the greatest invention sense sliced bread! Now go out and buy a computer to help you chat online with friends, find locations and millions of information on one click of the button and help your self with getting a job with neat, prepared, printed work that your boss will love.\",\n",
       "       \"Dear, @CAPS1 @CAPS2 @CAPS3 More and more people use computers, but not everyone agrees that this benefits society. Those who support advances in technology believe that computers have a positive effect on people. Others have different ideas. A great amount in the world today are using computers, some for work and spme for the fun of it. Computers is one of mans greatest accomplishments. Computers are helpful in so many ways, @CAPS4, news, and live streams. Don't get me wrong way to much people spend time on the computer and they should be out interacting with others but who are we to tell them what to do. When I grow up I want to be a author or a journalist and I know for a fact that both of those jobs involve lots of time on time on the computer, one @MONTH1 spend more time then the other but you know exactly what @CAPS5 getting at. So what if some expert think people are spending to much time on the computer and not exercising, enjoying natures and interacting with family and friends. For all the expert knows that its how must people make a living and we don't know why people choose to use the computer for a great amount of time and to be honest it's non of my concern and it shouldn't be the so called experts concern. People interact a thousand times a day on the computers. Computers keep lots of kids of the streets instead of being out and causing trouble. Computers helps the @ORGANIZATION1 locate most wanted criminals. As you can see computers are more useful to society then you think, computers benefit society.\",\n",
       "       ...,\n",
       "       'When you laugh, is @CAPS5 out of habit, or is @CAPS1 cause? What are the causes for laughing? Is @CAPS1 even such a thing as a \"cause\" for laughter? I\\'m sure that if you were to get a scientist\\'s opinion, you would be given an in-depth, technical explanation for the cause of laughter; but does that mean that laughing is simply a message sent from the brain to the required muscles? Certainly not! The true cause is what was said or done to cause the brain to send the message to the required muscles to physically make a person laugh. So what makes people laugh? A funny joke, a senseless action, a misunderstanding? @CAPS5 can be anything! Without a doubt, one thing that makes people laugh is having a delightful time with a friend or two. @DATE1, @CAPS3 older sister @PERSON4 and I unknowingly went out on an adventure. We were headed to @LOCATION2, @LOCATION1 to visit our very best friends, @PERSON2 and @PERSON3, who happened to be almost completely identical to @CAPS3 sister and I in personality; @PERSON2 being like @PERSON4 and @PERSON3 being like me. Now, whenever the four of us got together, @CAPS1 was no telling what kind of humorous and insane memories we would all go home with; all we knew was that hanging out together @CAPS8 failed to brighten up our days and put a smile on our faces. This particular day, both @PERSON3 and I were in desperate need of each other\\'s full attention and up-lifting spirits. She and I had both been going through a rough patch with some friends at our schools (oddly enough, we were both having friendship issues with someone named @PERSON1, and we didn\\'t even go to the same school), so after some discussion between both of our sets of parents, they agreed to have @PERSON2 pick up @LOCATION3, @PERSON4 pick me up, and well all meet somewhere to take our minds off the antagonizing situations were were both suffering through. We decided to meet in @LOCATION2, at @PERSON2 and @PERSON3\\'s house. When we pulled into their drive way, I could feel @CAPS3 body being filled with excitement, as if the emotion was trapped inside some kind of storage container inside of me that was too small to hold all the contents that were being held inside. Before the car engine was completely turned off, @CAPS3 seat belt was off and I was half-way out of the car door. I slammed @CAPS5 shut once @CAPS3 body had slithered its way free and ran for the door. To @CAPS3 surprise, @CAPS5 was unlocked! I pushed @CAPS5 open obnoxiously yelling, \"I\\'m heeeeeeeereeeeeeee!\" @CAPS1 was a cry of laughter that filled the room. I hugged both of them in one tight squeeze, and almost as if @PERSON3 and I had our very next move planned out, we immediately began chattering about the incidents that had occured that day as we took a seat on the couch. All that could be heard was, \"@CAPS2 @CAPS3 @CAPS4! I have to tell you what happened today!\" and \" I can\\'t believe she said that!\" or \"...and she said...and then I was like...so then she says...\"@CAPS5 was just as if we had taken up the life of a drama-ridden teen straight out of the movies. Things were going as they normally would have; @PERSON2 and @PERSON4 dwelling close to @PERSON3 and I in the dining room locatated at the far end of the couch where she and I sat, still completely involved in our similar freshman-year-of-high school worlds. They were completely immersed in their own conversations of old memories we\\'d had together. All of a sudden @PERSON2 shouts, \"@CAPS2! @PERSON3 and I baked you brownies!\" @CAPS7 off guard by his intejection, we all once again fell into laughter, although this time, making our way toward the kitchen in search of said brownies. When we arrived, @CAPS1 sat a pan of brownies on the middle counter. @PERSON3 uncovered @CAPS5 and gave us each a napkin with which a brownie sat on top. We stood together, leaning against the tile counters, enjoying our brownies and the company of one another. Suddenly, @CAPS1 was a dull moment; no one was saying anything. As if to fill the silence before a timer ran out, @PERSON2 blurted out, \"@PERSON4, do you wear a wig?\" @CAPS8 in our lives have any of us laughed as hard as we did at that moment. @PERSON3 fell to the ground, @PERSON2 and @PERSON4 were leaning upon each other for support to keep from falling, and I was completely doubled over, trying desperately to keep the sip of milk I had just taken inside of @CAPS3 mouth. Minutes creeped by, and we were still laughing at the off-key remark. To this day, @PERSON4 and I remenise upon that afternoon and the laughter that was shared upon us and our very, very best friends. ',\n",
       "       '                               Trippin\\' on fences I am @NUM1 years young, and in those short @NUM1 years, all I can ever remember, is laughing hysterically. Whether it was about something stupid I did, or my best friend doing something stupid, or most of the time when we got together and did something outrageous. Someone once said \"Laughter is the shortest distance between two people\". With my best friend @ORGANIZATION2 and I, that\\'s exactly the case. I always get a good ab workout whenever I\\'m with her, because I\\'m always bursting with laughter. It was my @NUM3 grade year at @ORGANIZATION1 here in @LOCATION1, @ORGANIZATION3. I was hanging out with my best friend @ORGANIZATION2 during our lunch break outside. I was showing her my new jeans I\\'d just gotten the day before, at @LOCATION2. I was also telling her about a note that had been passed to me, by a boy who had apparently had a crush on me for sometime, this boy had also asked me out on the note. @ORGANIZATION2 had asked me if she could see it, when I handed it over to her, all of a sudden, she chucked the note over the fence. Clearly, the guy didn\\'t have @ORGANIZATION2\\'s approval. I couldn\\'t just leave the guy hanging without an answer, especially when at the time, I liked him back. I begged @ORGANIZATION2 to give me my note back, but she refused. What was I supposed to do, just let an unanswered note lay on the other side of the fence? No. The only solution was to hop over the fence and grab it. So I, in my new jeans might I add, practically straddled the fence, and ripped a big hole on the inner side of my thigh, in my brand new jeans. I was so mad. I grabbed the note, and climbed back over the fence in my new and improved hobo jeans. On my way back over, I lost my balance, and fell of the fence. I ended up losing the note again and planting head first into a pile of mud and pine cones.  What an idiot I was, I\\'d climbed over that stupid fence, ripped my jeans, biffed it and lost my balance, and lost it again. I was so frustrated with myself, I started laughing. I\\'m not sure if it was because I was embarrassed or what, but I randomly started cracking up. Then @ORGANIZATION2 started laughing, and when she laughs I laugh, because her laughter is so contagious. Pretty soon, we were both hysterically laughing like a couple of dorks. \"Laughter really was the shortest distance between two people\" that day. Even though I probably should have been mad.... But why do that when @CAPS1 can just laugh about it? That\\'s what life is all about, living. With this silly but funny memory, it\\'ll stay with me forever. Especially now that @ORGANIZATION2 has moved away. It @MONTH1 seem stupid, but it was funny to us. I guess it really was one of those \"@CAPS1 had to be there\" kind of moments. But it reminds me of the good old days with @ORGANIZATION2. It\\'s good to have memories filled with laughter. If @CAPS1 don\\'t, your life can almost feel dull without it. Even if @CAPS1 laugh at just the smallest things in life. That\\'s why to me anyways, \"Laughter is the shortest distance between two people\".',\n",
       "       \" Many people believe that laughter can improve your life. Laughing lets out endorphins that give your body energy for daily activities. Relationships are usually better if both the people are happy. Happiness is like shaking up a soda bottle. Happy emotions build up in your body and when shaken, release with an explosion of positive emotions such as laughing. When I was born, my mother said that I was the most chubby baby in the world. As she said this, she laughed, in constant thought that I will eventually become a young adult. I giggled in the backseat of the car as we drove home together. I was taught by my mother, who laughed all the time until her eyes were full of tears, to laugh at every chance I had. Through my years as an infant, I giggled, chuckled, and laughed my way to adolescence. As I moved into adolescence, I was diagnosed with @ORGANIZATION1's @CAPS1, a mild autistic @CAPS1 that has a variation of side effects. Some people who have @ORGANIZATION1's @CAPS1 develop cases where their emotions do not show physically. This case is similar to the physical features of @CAPS3 @CAPS1. My main case with having @ORGANIZATION1's @CAPS1 is that I do not receive all the information given to me at one time. When people tell me a joke that they think is hilarious, I tend to miss the important parts of the joke, which are funny. As the joke comes to an end, everybody around me is laughing, but I am standing there with a blank look on my face. Sometimes I tell people I cannot laugh. Though I say this, I know it is not true. I can laugh, it is just really hard for me to find the right time. Most times, I laugh at a situation that really is not funny and everybody else has a blank gaze on their face. This usually makes me feel embarrassed and I don't feel normal. A lot of people tell me I look expressionless and then try to perk me up, or smile. I don't feel the need to smile, even in happy times in my life. I have not laughed enough, but have been learning in how to make bad situations into great and happy ones. Learning that at any moment I can laugh is important. Even if there is no joke being told, I can laugh. Most people would probably look a me in a weird way, but I wouldn't care because I am the one that feels happiness inside. Laughing relieves stress, makes other people feel good, and allows people with mental disabilities to feel more comfortable in the community they live in. I have finally learned that even with @ORGANIZATION1's @CAPS1, I can laugh just as much as anyone.\"],\n",
       "      dtype=object)"
      ]
     },
     "execution_count": 9,
     "metadata": {},
     "output_type": "execute_result"
    }
   ],
   "source": [
    "df.values[:, 2]"
   ]
  },
  {
   "cell_type": "code",
   "execution_count": 10,
   "metadata": {},
   "outputs": [],
   "source": [
    "corpus = \"\"\n",
    "for row in range(df.values.shape[1]):\n",
    "    corpus += df.values[row, 2]\n",
    "    corpus += '\\n'"
   ]
  },
  {
   "cell_type": "code",
   "execution_count": 11,
   "metadata": {},
   "outputs": [],
   "source": [
    "with open(\"asap-aes-corpus.txt\", \"w\") as f:\n",
    "    f.write(corpus)"
   ]
  },
  {
   "cell_type": "code",
   "execution_count": null,
   "metadata": {},
   "outputs": [],
   "source": []
  }
 ],
 "metadata": {
  "kernelspec": {
   "display_name": "Python 3",
   "language": "python",
   "name": "python3"
  },
  "language_info": {
   "codemirror_mode": {
    "name": "ipython",
    "version": 3
   },
   "file_extension": ".py",
   "mimetype": "text/x-python",
   "name": "python",
   "nbconvert_exporter": "python",
   "pygments_lexer": "ipython3",
   "version": "3.6.8"
  }
 },
 "nbformat": 4,
 "nbformat_minor": 2
}
